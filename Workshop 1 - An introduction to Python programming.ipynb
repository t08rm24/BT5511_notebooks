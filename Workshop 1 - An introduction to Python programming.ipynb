{
 "cells": [
  {
   "cell_type": "markdown",
   "id": "dd338f8c",
   "metadata": {},
   "source": [
    "# Welcome to Python programming\n",
    "For many of you this will be your first experience of programming while others will have learnt some at school, college or your undergraduate degree (maybe even some of you from previous jobs/careers). Our goal is to introduce the Python programming language and the principles behind computer programming in a way that will allow you to continue using this new skill, or develop it further if you so wish.\n",
    "\n",
    "You are currently reading a jupyter notebook. This is also called an integrated development environment (IDE), which allows a programmer to write and test code in short blocks. This is an _ideal_ way to learn progrmaming as it will allow you to play around and test out bits of Python code to understand how they work. They are commonly used in data science as they allow the quick execution of code for analysis. We will use Jupyter notebooks for all practical sessions, and I recommend using them for your assignment too. If you have done a lot of programming previously then you may use your favourite IDE or text editor, but for trouble-shooting and assignments please use the jupyter notebook.\n"
   ]
  },
  {
   "cell_type": "markdown",
   "id": "f8718026",
   "metadata": {},
   "source": [
    "## Using Jupyter notebooks\n",
    "This text is written in a language called 'Markdown'. It's not a programming language but something called a mark-up language that allows text formatting, including maths equations and other special symbols using a plain text editor.\n",
    "\n",
    "\n",
    "Jupyter notebook blocks can contain code or markdown - you can switch between the two using the drop down menu:\n",
    "![Switching between code and Markdown](Code_markdown_menu.png \"Screenshot\")\n",
    "\n",
    "Go ahead an play around with writing some text in a new block and see what happens when it is Markdown vs. code. You might see something like these two examples.\n",
    "\n",
    "![Markdown](Markdown_example.png)\n",
    "\n",
    "![Code](Code_example.png)\n",
    "\n",
    "The text is coloured in the code - this is called syntax highlighting, and is one of the reasons why we use an IDE - it makes it easier for us to write code as special types of code are coloured differently. Below is an example of syntax highlighting on a function.\n",
    "\n",
    "![Syntax highlighting](syntax_highlight.png)\n",
    "\n",
    "The <span style=\"color:green\">green</span> code are special built-in functions that come in Python, the <span style=\"color:blue\">blue</span> code is the name of my function and the <span style=\"color:rgb(175,0,255)\">pink</span> are operators. Anything that is a string is in <span style=\"color:red\">red</span> and normal code is in <span style=\"color:black\">black</span>."
   ]
  },
  {
   "cell_type": "markdown",
   "id": "c93565da",
   "metadata": {},
   "source": [
    "# Variables and assignment\n",
    "Variables are how we store values in programming languages. When we make a new variable or change its value we call this _assignment_. In Python we use the equals operator (<span style=\"color:rgb(175,0,255)\">=</span>) to assign a value to a variable. The name of the variable always goes on the left and the value to be assigned on the right."
   ]
  },
  {
   "cell_type": "code",
   "execution_count": 1,
   "id": "cddcfe88",
   "metadata": {},
   "outputs": [],
   "source": [
    "x = 3\n",
    "my_name = \"Mike\""
   ]
  },
  {
   "cell_type": "markdown",
   "id": "ab4259b0",
   "metadata": {},
   "source": [
    "It doesn't matter if we are assigning a <span style=\"color:green\">**number**</span> or <span style=\"color:red\">**string**</span> we use the same operator - Python figures out what you are assigning. For instance, it knows that <span style=\"color:red\">**\"Mike\"**</span> is a string because it is in quotes where as <span style=\"color:green\">**3**</span> is not so it knows to store it as a number (specifically an integer).\n",
    "\n",
    "### **Exercise break**\n",
    "\n",
    "Try creating some of your own variables, both numbers and strings.\n",
    "\n",
    "When naming variables it is best to use something useful. **'x'** isn't very informative because it doesn't give me any information about what is stored in the variable, but **'my_name'** gives me an idea that it is a name and therefore must be stored as a string. There is no length to how long a variable name is, so you could call it **'a_string_is_stored_here'** but obviously if you create another string variable it will need a different name, but just calling them **'a_string_is_stored_here2'** isn't realy very informative. You get the picture. Have a try and see what works and what doesn't.\n",
    "\n",
    "If you have a variable already assigned you can _evaluate_ it (what we say when we want to know what is stored in the variable) or you can display the value using the <span style=\"color:green\">**print()**</span> function."
   ]
  },
  {
   "cell_type": "code",
   "execution_count": 2,
   "id": "934d9ffb",
   "metadata": {},
   "outputs": [
    {
     "name": "stdout",
     "output_type": "stream",
     "text": [
      "3\n"
     ]
    }
   ],
   "source": [
    "print(x)"
   ]
  },
  {
   "cell_type": "code",
   "execution_count": 3,
   "id": "215a73f1",
   "metadata": {},
   "outputs": [
    {
     "data": {
      "text/plain": [
       "3"
      ]
     },
     "execution_count": 3,
     "metadata": {},
     "output_type": "execute_result"
    }
   ],
   "source": [
    "x"
   ]
  },
  {
   "cell_type": "markdown",
   "id": "f1add04f",
   "metadata": {},
   "source": [
    "Evaluating **'x'** like this only works in an interactive Python session, such as this notebook. If you are running a script (more on these in a later practical) then you will need to use the <span style=\"color:green\">**print()**</span> function to display the value.\n",
    "\n",
    "<span style=\"color:green\">**print()**</span> can take multiple arguments which it will **concatenate** together. You can mix numbers and strings which have to be separated by commas."
   ]
  },
  {
   "cell_type": "code",
   "execution_count": 4,
   "id": "13db9b07",
   "metadata": {},
   "outputs": [
    {
     "name": "stdout",
     "output_type": "stream",
     "text": [
      "My name is Mike and the magic number is  3\n"
     ]
    }
   ],
   "source": [
    "print(\"My name is\", my_name, \"and the magic number is \", x)"
   ]
  },
  {
   "cell_type": "markdown",
   "id": "aa3a0cf6",
   "metadata": {},
   "source": [
    "To evaluate an argument or use it in a function you have to assign it first. If you try to evaluate a variable that doesn't exist you will get an error."
   ]
  },
  {
   "cell_type": "code",
   "execution_count": 5,
   "id": "150a370b",
   "metadata": {},
   "outputs": [
    {
     "ename": "NameError",
     "evalue": "name 'your_name' is not defined",
     "output_type": "error",
     "traceback": [
      "\u001b[0;31m---------------------------------------------------------------------------\u001b[0m",
      "\u001b[0;31mNameError\u001b[0m                                 Traceback (most recent call last)",
      "Cell \u001b[0;32mIn[5], line 1\u001b[0m\n\u001b[0;32m----> 1\u001b[0m your_name\n",
      "\u001b[0;31mNameError\u001b[0m: name 'your_name' is not defined"
     ]
    }
   ],
   "source": [
    "your_name"
   ]
  },
  {
   "cell_type": "markdown",
   "id": "ef821cd2",
   "metadata": {},
   "source": [
    "Errors are useful and not something to be scared of. They tell us that there is a problem in the code and the messaeg gives us a clue about what the cause is. Here the error is a <span style=\"color:red\">NameError</span> which is what happens when you evaluate a variable that doesn't exist. In fact, it tells us which variable doesn't exist - **'your_name'**."
   ]
  },
  {
   "cell_type": "markdown",
   "id": "2950e32b",
   "metadata": {},
   "source": [
    "### A note of caution\n",
    "Jupyter notebooks can have strange behaviour if you execute blocks of code out of order. If I assign a variable and try to use it in a code block before that I will get an error, as above. _However_, if I run the assignment code block _then_ the preceding block I will not get an error because the Python session can see that the variable exists. To make sure this doesn't happen it is _strongly_ recommended that you restart the Python kernel (session) using the **Kernel > Restart & Run All** option above.\n",
    "\n",
    "![Kernel restart](kernel_restart.png)"
   ]
  },
  {
   "cell_type": "markdown",
   "id": "4bb3faf5",
   "metadata": {},
   "source": [
    "# Data types\n",
    "To write effective programming code we need to be able to represent different types of data. As with a spoken/written language we have letters and numbers, and we can put letters together to create words. We can add, subtract, multiply and divide numbers together to make other numbers. We can also ask if two things are the same or different. All of these aspects can be represented in a programming language with the following basic data structures:\n",
    "\n",
    "* strings - letters, words, sentences\n",
    "* integers - whole numbers (not fractions)\n",
    "* floats - fractional numbers, e.g. 1.43 or pi\n",
    "* boolean - logical values - true or false\n",
    "\n",
    "There are more complex data types that we will consider later that are useful for storing these different basic data types. You can find out what the data type is using the <span style=\"color:green\">type</span>() function.\n"
   ]
  },
  {
   "cell_type": "code",
   "execution_count": 6,
   "id": "eaea14bb",
   "metadata": {},
   "outputs": [
    {
     "data": {
      "text/plain": [
       "int"
      ]
     },
     "execution_count": 6,
     "metadata": {},
     "output_type": "execute_result"
    }
   ],
   "source": [
    "type(1)"
   ]
  },
  {
   "cell_type": "code",
   "execution_count": 7,
   "id": "9b96c66f",
   "metadata": {},
   "outputs": [
    {
     "data": {
      "text/plain": [
       "str"
      ]
     },
     "execution_count": 7,
     "metadata": {},
     "output_type": "execute_result"
    }
   ],
   "source": [
    "type(\"Mike\")"
   ]
  },
  {
   "cell_type": "code",
   "execution_count": 8,
   "id": "38bc9f39",
   "metadata": {},
   "outputs": [
    {
     "data": {
      "text/plain": [
       "float"
      ]
     },
     "execution_count": 8,
     "metadata": {},
     "output_type": "execute_result"
    }
   ],
   "source": [
    "type(1.43)"
   ]
  },
  {
   "cell_type": "code",
   "execution_count": 9,
   "id": "19c8ca12",
   "metadata": {},
   "outputs": [
    {
     "data": {
      "text/plain": [
       "bool"
      ]
     },
     "execution_count": 9,
     "metadata": {},
     "output_type": "execute_result"
    }
   ],
   "source": [
    "type(True)"
   ]
  },
  {
   "cell_type": "code",
   "execution_count": 10,
   "id": "af5861ec",
   "metadata": {},
   "outputs": [
    {
     "data": {
      "text/plain": [
       "bool"
      ]
     },
     "execution_count": 10,
     "metadata": {},
     "output_type": "execute_result"
    }
   ],
   "source": [
    "type(False)"
   ]
  },
  {
   "cell_type": "markdown",
   "id": "dee08e54",
   "metadata": {},
   "source": [
    "## Container data types\n",
    "There are several container data types that we will use a lot, the main ones being the <span style=\"color:green\">list</span>, <span style=\"color:green\">dict</span> and <span style=\"color:green\">tuple</span>. \n",
    "\n",
    "### Lists\n",
    "A <span style=\"color:green\">list</span> can contain any number of elements, which can be of different types."
   ]
  },
  {
   "cell_type": "code",
   "execution_count": 11,
   "id": "aac44f1c",
   "metadata": {},
   "outputs": [
    {
     "data": {
      "text/plain": [
       "(list, list, list)"
      ]
     },
     "execution_count": 11,
     "metadata": {},
     "output_type": "execute_result"
    }
   ],
   "source": [
    "number_list = [1, 4, 6, 12, 9871]\n",
    "string_list = [\"Mike\", \"Ellie\", \"Kim\", \"Luna\"]\n",
    "mixed_list = [\"words\", 1, 4, \"and numbers mix\"]\n",
    "type(number_list), type(string_list), type(mixed_list)"
   ]
  },
  {
   "cell_type": "markdown",
   "id": "38464b59",
   "metadata": {},
   "source": [
    "You can add new elements to a list in a number of different ways, the easiest is of which is to use a special <span style=\"color:blue\">append</span> function. It adds the element inside the brackets to the end of the list as a new element. Repeated calls of <span style=\"color:blue\">.append()</span> will keep adding to the end of the list."
   ]
  },
  {
   "cell_type": "code",
   "execution_count": 12,
   "id": "b11e1ac8",
   "metadata": {},
   "outputs": [
    {
     "data": {
      "text/plain": [
       "[1, 4, 6, 12, 9871, ['Mike', 'Ellie', 'Kim', 'Luna']]"
      ]
     },
     "execution_count": 12,
     "metadata": {},
     "output_type": "execute_result"
    }
   ],
   "source": [
    "number_list.append(string_list) # this adds the list as a new element to the end\n",
    "number_list"
   ]
  },
  {
   "cell_type": "markdown",
   "id": "7fc50cda",
   "metadata": {},
   "source": [
    "### **Exercise break**\n",
    "\n",
    "What happens if you keep running the code above? Try it out and explain what you think is happening."
   ]
  },
  {
   "cell_type": "markdown",
   "id": "24ab7811",
   "metadata": {},
   "source": [
    "### Tuple\n",
    "A <span style=\"color:green\">tuple</span> contains a fixed number of elements that can be of mixed types - these are _immutable_, which means once a tuple is made it can't be changed except to make a new tuple."
   ]
  },
  {
   "cell_type": "code",
   "execution_count": 13,
   "id": "8a81ed1b",
   "metadata": {},
   "outputs": [
    {
     "data": {
      "text/plain": [
       "((4, 'apples', 'basket', 12), tuple)"
      ]
     },
     "execution_count": 13,
     "metadata": {},
     "output_type": "execute_result"
    }
   ],
   "source": [
    "my_tuple = (4, \"apples\", \"basket\", 12)\n",
    "my_tuple, type(my_tuple)"
   ]
  },
  {
   "cell_type": "code",
   "execution_count": 14,
   "id": "84a604b7",
   "metadata": {},
   "outputs": [
    {
     "data": {
      "text/plain": [
       "(4, 'apples', 'basket', 12, 4, 'apples', 'basket', 12)"
      ]
     },
     "execution_count": 14,
     "metadata": {},
     "output_type": "execute_result"
    }
   ],
   "source": [
    "my_tuple + my_tuple # this makes a new tuple by adding together these two."
   ]
  },
  {
   "cell_type": "markdown",
   "id": "c31b2888",
   "metadata": {},
   "source": [
    "We can't keep adding to a tuple like we can with a list. Try this out by using the .append() function on the tuple:"
   ]
  },
  {
   "cell_type": "code",
   "execution_count": 15,
   "id": "59f6f9ff",
   "metadata": {},
   "outputs": [
    {
     "ename": "AttributeError",
     "evalue": "'tuple' object has no attribute 'append'",
     "output_type": "error",
     "traceback": [
      "\u001b[0;31m---------------------------------------------------------------------------\u001b[0m",
      "\u001b[0;31mAttributeError\u001b[0m                            Traceback (most recent call last)",
      "Cell \u001b[0;32mIn[15], line 1\u001b[0m\n\u001b[0;32m----> 1\u001b[0m my_tuple\u001b[38;5;241m.\u001b[39mappend(my_tuple)\n",
      "\u001b[0;31mAttributeError\u001b[0m: 'tuple' object has no attribute 'append'"
     ]
    }
   ],
   "source": [
    "my_tuple.append(my_tuple) # we'll come back to this one later"
   ]
  },
  {
   "cell_type": "markdown",
   "id": "ee728173",
   "metadata": {},
   "source": [
    "### Dict\n",
    "<span style=\"color:green\">dict</span>s can store lots of different elements using a key:value pair organisation. This is very useful for arranging other containers into different categories. For instance, I could organise names and numbers into a dictionary. Each key: value must be separated by a colon."
   ]
  },
  {
   "cell_type": "code",
   "execution_count": 16,
   "id": "b462df92",
   "metadata": {},
   "outputs": [
    {
     "data": {
      "text/plain": [
       "dict"
      ]
     },
     "execution_count": 16,
     "metadata": {},
     "output_type": "execute_result"
    }
   ],
   "source": [
    "phone_book = {\"Names\": [\"Mike\", \"Daniel\", \"Ellie\", \"Heather\"],\n",
    "             \"Office\": [\"6.17\", \"5.23\", \"3.20\", \"3.18\"],\n",
    "             \"Department\": [\"Immunology\", \"Neuroscience\", \"Developmental Biology\", \"Immunology\"]}\n",
    "type(phone_book)"
   ]
  },
  {
   "cell_type": "markdown",
   "id": "07ed1e31",
   "metadata": {},
   "source": [
    "# Arithmetic\n",
    "Computers are _amazing_ at fast arithmetic, which are common tasks in programming. We can add numbers together or we can add strings together but we can't mix them together."
   ]
  },
  {
   "cell_type": "markdown",
   "id": "a58bc080",
   "metadata": {},
   "source": [
    "## Numeric arithmetic\n",
    "Adding and subtracting numbers works in the same way that you would expect it to. The exception is for floating point numbers because they have a _precision_ associated with them."
   ]
  },
  {
   "cell_type": "code",
   "execution_count": 17,
   "id": "5a3704b7",
   "metadata": {},
   "outputs": [
    {
     "data": {
      "text/plain": [
       "4"
      ]
     },
     "execution_count": 17,
     "metadata": {},
     "output_type": "execute_result"
    }
   ],
   "source": [
    "1 + 3"
   ]
  },
  {
   "cell_type": "code",
   "execution_count": 18,
   "id": "398f1948",
   "metadata": {},
   "outputs": [
    {
     "data": {
      "text/plain": [
       "3"
      ]
     },
     "execution_count": 18,
     "metadata": {},
     "output_type": "execute_result"
    }
   ],
   "source": [
    "5 - 2"
   ]
  },
  {
   "cell_type": "markdown",
   "id": "abca027a",
   "metadata": {},
   "source": [
    "We can also use variables to which we have assigned numbers"
   ]
  },
  {
   "cell_type": "code",
   "execution_count": 19,
   "id": "dee18618",
   "metadata": {},
   "outputs": [
    {
     "data": {
      "text/plain": [
       "8"
      ]
     },
     "execution_count": 19,
     "metadata": {},
     "output_type": "execute_result"
    }
   ],
   "source": [
    "x + 5"
   ]
  },
  {
   "cell_type": "code",
   "execution_count": 20,
   "id": "4293847e",
   "metadata": {},
   "outputs": [
    {
     "name": "stdout",
     "output_type": "stream",
     "text": [
      "8\n"
     ]
    }
   ],
   "source": [
    "y = x + 5\n",
    "print(y)"
   ]
  },
  {
   "cell_type": "code",
   "execution_count": 21,
   "id": "c91420f8",
   "metadata": {},
   "outputs": [
    {
     "data": {
      "text/plain": [
       "5"
      ]
     },
     "execution_count": 21,
     "metadata": {},
     "output_type": "execute_result"
    }
   ],
   "source": [
    "y - x"
   ]
  },
  {
   "cell_type": "markdown",
   "id": "34c19581",
   "metadata": {},
   "source": [
    "Floating point numbers _mostly_ work as expected, but can behave unexpectedly when they are _very_ small or _very_ large. Note how adding a float and an integer automatically converts the answer to a float; this is called **_casting_**."
   ]
  },
  {
   "cell_type": "code",
   "execution_count": 22,
   "id": "99871f63",
   "metadata": {},
   "outputs": [
    {
     "data": {
      "text/plain": [
       "4.5"
      ]
     },
     "execution_count": 22,
     "metadata": {},
     "output_type": "execute_result"
    }
   ],
   "source": [
    "1.5 + 3"
   ]
  },
  {
   "cell_type": "code",
   "execution_count": 23,
   "id": "dcac3d7b",
   "metadata": {},
   "outputs": [
    {
     "data": {
      "text/plain": [
       "3.0"
      ]
     },
     "execution_count": 23,
     "metadata": {},
     "output_type": "execute_result"
    }
   ],
   "source": [
    "4.5 - 1.5 # the answer is still a float"
   ]
  },
  {
   "cell_type": "markdown",
   "id": "78657a3c",
   "metadata": {},
   "source": [
    "If you are really interesting in learning about how floating points are actually represented in Python see this link [here](https://docs.python.org/3/tutorial/floatingpoint.html). Multiplying works as expected, however, the multiplcation operator in python is **'\\*'** and _not_ 'x' <- that's a variable name (if we have assigned it as such)."
   ]
  },
  {
   "cell_type": "code",
   "execution_count": 24,
   "id": "c0f205db",
   "metadata": {},
   "outputs": [
    {
     "data": {
      "text/plain": [
       "6"
      ]
     },
     "execution_count": 24,
     "metadata": {},
     "output_type": "execute_result"
    }
   ],
   "source": [
    "3 * 2"
   ]
  },
  {
   "cell_type": "code",
   "execution_count": 25,
   "id": "e0d04112",
   "metadata": {},
   "outputs": [
    {
     "ename": "SyntaxError",
     "evalue": "invalid syntax (1418951104.py, line 1)",
     "output_type": "error",
     "traceback": [
      "\u001b[0;36m  Cell \u001b[0;32mIn[25], line 1\u001b[0;36m\u001b[0m\n\u001b[0;31m    3 x 2\u001b[0m\n\u001b[0m      ^\u001b[0m\n\u001b[0;31mSyntaxError\u001b[0m\u001b[0;31m:\u001b[0m invalid syntax\n"
     ]
    }
   ],
   "source": [
    "3 x 2"
   ]
  },
  {
   "cell_type": "markdown",
   "id": "6b708c5e",
   "metadata": {},
   "source": [
    "Division often results in a float because we are dealing with fractions rather than whole numbers, even if the result would be an integer."
   ]
  },
  {
   "cell_type": "code",
   "execution_count": 26,
   "id": "d368b37b",
   "metadata": {},
   "outputs": [
    {
     "data": {
      "text/plain": [
       "3.0"
      ]
     },
     "execution_count": 26,
     "metadata": {},
     "output_type": "execute_result"
    }
   ],
   "source": [
    "6/2"
   ]
  },
  {
   "cell_type": "code",
   "execution_count": 27,
   "id": "6086d18b",
   "metadata": {},
   "outputs": [
    {
     "data": {
      "text/plain": [
       "3.0"
      ]
     },
     "execution_count": 27,
     "metadata": {},
     "output_type": "execute_result"
    }
   ],
   "source": [
    "6.0/2"
   ]
  },
  {
   "cell_type": "code",
   "execution_count": 28,
   "id": "66e87450",
   "metadata": {},
   "outputs": [
    {
     "data": {
      "text/plain": [
       "3.0"
      ]
     },
     "execution_count": 28,
     "metadata": {},
     "output_type": "execute_result"
    }
   ],
   "source": [
    "6/2.0"
   ]
  },
  {
   "cell_type": "markdown",
   "id": "da21974d",
   "metadata": {},
   "source": [
    "We can also check if two values are the same - but beware that this can go awry when using floats because of the aforementioned _precision_. To check for equality, i.e. are two things _exactly the same_ we use the '<span style=\"color:rgb(175,0,255)\"> == </span>' operator."
   ]
  },
  {
   "cell_type": "code",
   "execution_count": 29,
   "id": "17318270",
   "metadata": {},
   "outputs": [
    {
     "data": {
      "text/plain": [
       "True"
      ]
     },
     "execution_count": 29,
     "metadata": {},
     "output_type": "execute_result"
    }
   ],
   "source": [
    "x = 4\n",
    "\n",
    "x == 4"
   ]
  },
  {
   "cell_type": "code",
   "execution_count": 30,
   "id": "564f4236",
   "metadata": {},
   "outputs": [
    {
     "data": {
      "text/plain": [
       "True"
      ]
     },
     "execution_count": 30,
     "metadata": {},
     "output_type": "execute_result"
    }
   ],
   "source": [
    "y = 2 * 2\n",
    "x == y"
   ]
  },
  {
   "cell_type": "code",
   "execution_count": 31,
   "id": "040da7ea",
   "metadata": {},
   "outputs": [
    {
     "data": {
      "text/plain": [
       "1.0"
      ]
     },
     "execution_count": 31,
     "metadata": {},
     "output_type": "execute_result"
    }
   ],
   "source": [
    "# Comparing a float and an integer\n",
    "x/y"
   ]
  },
  {
   "cell_type": "markdown",
   "id": "0050670c",
   "metadata": {},
   "source": [
    "## String arithmetic\n",
    "String arithmetic is very simple - it is used to concatenate (add together) strings. Note that it will _not_ introduce a space (whitespace) into the output - you have to tell the computer to do this."
   ]
  },
  {
   "cell_type": "code",
   "execution_count": 32,
   "id": "e3b73579",
   "metadata": {},
   "outputs": [
    {
     "data": {
      "text/plain": [
       "'add thisand this'"
      ]
     },
     "execution_count": 32,
     "metadata": {},
     "output_type": "execute_result"
    }
   ],
   "source": [
    "\"add this\" + \"and this\""
   ]
  },
  {
   "cell_type": "code",
   "execution_count": 33,
   "id": "fa83029a",
   "metadata": {},
   "outputs": [
    {
     "data": {
      "text/plain": [
       "'add this and this'"
      ]
     },
     "execution_count": 33,
     "metadata": {},
     "output_type": "execute_result"
    }
   ],
   "source": [
    "\"add this\" + \" \" + \"and this\""
   ]
  },
  {
   "cell_type": "markdown",
   "id": "3b24910c",
   "metadata": {},
   "source": [
    "By the way, subtraction, multiplication and division don't exist in string arithmetic."
   ]
  },
  {
   "cell_type": "code",
   "execution_count": 34,
   "id": "594a7868",
   "metadata": {},
   "outputs": [
    {
     "ename": "TypeError",
     "evalue": "unsupported operand type(s) for -: 'str' and 'str'",
     "output_type": "error",
     "traceback": [
      "\u001b[0;31m---------------------------------------------------------------------------\u001b[0m",
      "\u001b[0;31mTypeError\u001b[0m                                 Traceback (most recent call last)",
      "Cell \u001b[0;32mIn[34], line 1\u001b[0m\n\u001b[0;32m----> 1\u001b[0m \u001b[38;5;124m\"\u001b[39m\u001b[38;5;124msubtract this \u001b[39m\u001b[38;5;124m\"\u001b[39m \u001b[38;5;241m-\u001b[39m \u001b[38;5;124m\"\u001b[39m\u001b[38;5;124m from this\u001b[39m\u001b[38;5;124m\"\u001b[39m\n",
      "\u001b[0;31mTypeError\u001b[0m: unsupported operand type(s) for -: 'str' and 'str'"
     ]
    }
   ],
   "source": [
    "\"subtract this \" - \" from this\""
   ]
  },
  {
   "cell_type": "code",
   "execution_count": 35,
   "id": "5a856465",
   "metadata": {},
   "outputs": [
    {
     "ename": "TypeError",
     "evalue": "can't multiply sequence by non-int of type 'str'",
     "output_type": "error",
     "traceback": [
      "\u001b[0;31m---------------------------------------------------------------------------\u001b[0m",
      "\u001b[0;31mTypeError\u001b[0m                                 Traceback (most recent call last)",
      "Cell \u001b[0;32mIn[35], line 1\u001b[0m\n\u001b[0;32m----> 1\u001b[0m \u001b[38;5;124m\"\u001b[39m\u001b[38;5;124mmultiply this \u001b[39m\u001b[38;5;124m\"\u001b[39m \u001b[38;5;241m*\u001b[39m \u001b[38;5;124m\"\u001b[39m\u001b[38;5;124mby this\u001b[39m\u001b[38;5;124m\"\u001b[39m\n",
      "\u001b[0;31mTypeError\u001b[0m: can't multiply sequence by non-int of type 'str'"
     ]
    }
   ],
   "source": [
    "\"multiply this \" * \"by this\""
   ]
  },
  {
   "cell_type": "code",
   "execution_count": 36,
   "id": "17678270",
   "metadata": {},
   "outputs": [
    {
     "ename": "TypeError",
     "evalue": "unsupported operand type(s) for /: 'str' and 'str'",
     "output_type": "error",
     "traceback": [
      "\u001b[0;31m---------------------------------------------------------------------------\u001b[0m",
      "\u001b[0;31mTypeError\u001b[0m                                 Traceback (most recent call last)",
      "Cell \u001b[0;32mIn[36], line 1\u001b[0m\n\u001b[0;32m----> 1\u001b[0m \u001b[38;5;124m\"\u001b[39m\u001b[38;5;124mdivide this \u001b[39m\u001b[38;5;124m\"\u001b[39m \u001b[38;5;241m/\u001b[39m \u001b[38;5;124m\"\u001b[39m\u001b[38;5;124m by this\u001b[39m\u001b[38;5;124m\"\u001b[39m\n",
      "\u001b[0;31mTypeError\u001b[0m: unsupported operand type(s) for /: 'str' and 'str'"
     ]
    }
   ],
   "source": [
    "\"divide this \" / \" by this\""
   ]
  },
  {
   "cell_type": "markdown",
   "id": "f47bd856",
   "metadata": {},
   "source": [
    "You can however multiply a string by a number to repeat it."
   ]
  },
  {
   "cell_type": "code",
   "execution_count": 37,
   "id": "eeb46240",
   "metadata": {},
   "outputs": [
    {
     "data": {
      "text/plain": [
       "'repeat me repeat me repeat me '"
      ]
     },
     "execution_count": 37,
     "metadata": {},
     "output_type": "execute_result"
    }
   ],
   "source": [
    "\"repeat me \" * 3"
   ]
  },
  {
   "cell_type": "markdown",
   "id": "af67ff21",
   "metadata": {},
   "source": [
    "### **Exercise break**\n",
    "What other arithmetic operators are there? Can you figure out what the modulus % operator does? How about adding and subtracting bools? What does <span style=\"color:green\">True</span> + <span style=\"color:green\">True</span> give you? Why do you think you get this answer? What other bool operators are there?"
   ]
  },
  {
   "cell_type": "markdown",
   "id": "dada7820",
   "metadata": {},
   "source": [
    "# Conditional flow\n",
    "When writing a program we often have multiple choices to make depending on the value of some variable. Conditional flow allows us to make these choices and execute different code depending on what decision is made. For instance, if we have a variable containing a number less than 100 we might perform one operation, but if it's more than 100 we could do something different.\n",
    "\n",
    "There are special statements that we use <span style=\"color:green\">if</span>, <span style=\"color:green\">else</span> and <span style=\"color:green\">elif</span>. A conditional statement always begins with <span style=\"color:green\">if</span>, and _usually_ finishes with <span style=\"color:green\">else</span>. If there is a choice between more than 2 options then we can also use <span style=\"color:green\">elif</span>."
   ]
  },
  {
   "cell_type": "code",
   "execution_count": 38,
   "id": "0a7ab5f0",
   "metadata": {},
   "outputs": [
    {
     "name": "stdout",
     "output_type": "stream",
     "text": [
      "Howdy Mike\n"
     ]
    }
   ],
   "source": [
    "my_name = \"Mike\"\n",
    "#my_name = \"Julie\"\n",
    "\n",
    "if my_name == \"Mike\":\n",
    "    print(\"Howdy \" + my_name)\n",
    "else:\n",
    "    print(\"Nice to meet you \" + my_name)"
   ]
  },
  {
   "cell_type": "code",
   "execution_count": 39,
   "id": "252ca57f",
   "metadata": {},
   "outputs": [
    {
     "name": "stdout",
     "output_type": "stream",
     "text": [
      "We haven't met - what is your name?\n"
     ]
    }
   ],
   "source": [
    "if my_name == \"John\":\n",
    "    print(\"Welcome \" + my_name)\n",
    "elif my_name == \"Sandra\":\n",
    "    print(\"Lovely to meet you \" + my_name)\n",
    "else:\n",
    "    print(\"We haven't met - what is your name?\")"
   ]
  },
  {
   "cell_type": "markdown",
   "id": "79b2e135",
   "metadata": {},
   "source": [
    "# Iteration - for and while loops\n",
    "In a programming task we often want to perform the same operation multiple times of a series of numbers of strings. For instance, if I want to compute the first 50 square numbers then I could write out 50 lines of code and calculate each square number from 1 to 50. \n",
    "\n",
    "Instead we can _iterate_ over a collection of numbers using a <span style=\"color:green\">**for**</span> loop and compute the square of each number."
   ]
  },
  {
   "cell_type": "code",
   "execution_count": 40,
   "id": "4c0e9be2",
   "metadata": {},
   "outputs": [
    {
     "name": "stdout",
     "output_type": "stream",
     "text": [
      "0\n",
      "1\n",
      "4\n",
      "9\n",
      "16\n",
      "25\n",
      "36\n",
      "49\n",
      "64\n",
      "81\n",
      "100\n",
      "121\n",
      "144\n",
      "169\n",
      "196\n",
      "225\n",
      "256\n",
      "289\n",
      "324\n",
      "361\n",
      "400\n",
      "441\n",
      "484\n",
      "529\n",
      "576\n",
      "625\n",
      "676\n",
      "729\n",
      "784\n",
      "841\n",
      "900\n",
      "961\n",
      "1024\n",
      "1089\n",
      "1156\n",
      "1225\n",
      "1296\n",
      "1369\n",
      "1444\n",
      "1521\n",
      "1600\n",
      "1681\n",
      "1764\n",
      "1849\n",
      "1936\n",
      "2025\n",
      "2116\n",
      "2209\n",
      "2304\n",
      "2401\n"
     ]
    }
   ],
   "source": [
    "for x in range(50):\n",
    "    print(x ** 2)"
   ]
  },
  {
   "cell_type": "markdown",
   "id": "7d71c52f",
   "metadata": {},
   "source": [
    "The anatomy of this for loop is always\n",
    "\n",
    "* <span style=\"color:green\">for</span> _some variable name_ <span style=\"color:green\">in</span> _collection of types_:\n",
    "\n",
    "I used the <span style=\"color:green\">range</span>() function here which creates something called a _generator_ to make a set of numbers, here from 0 to 50. Equally, we could include any set of numbers in an appropriate container."
   ]
  },
  {
   "cell_type": "markdown",
   "id": "73cd01e1",
   "metadata": {},
   "source": [
    "We could also iterate over a set of strings and do some operation on them, like adding sequential elements to create one long string"
   ]
  },
  {
   "cell_type": "code",
   "execution_count": 41,
   "id": "dafd5569",
   "metadata": {},
   "outputs": [
    {
     "name": "stdout",
     "output_type": "stream",
     "text": [
      " Mike is an awesome programmer\n"
     ]
    }
   ],
   "source": [
    "string_list = [\"Mike\", \"is\", \"an\", \"awesome\", \"programmer\"]\n",
    "\n",
    "concat = \"\"\n",
    "for mystring in string_list:\n",
    "    concat = concat + \" \" + mystring\n",
    "    \n",
    "print(concat)    "
   ]
  },
  {
   "cell_type": "markdown",
   "id": "7156c376",
   "metadata": {},
   "source": [
    "<span style=\"color:green\">while</span> loops can be another useful way to iterate over a set of elements when you don't know how many elements there are, or if you want to wait until a particular event has happened.\n",
    "\n",
    "**NB: Use with caution** While loops can be tricky to work with and debug, as they can result in an infinite loop, i.e. one that never ends because the event to break the loop doesn't ever happen in the code. This will manifest as the code hanging, i.e. taking a long time to finish (an infinite amount of time infact)."
   ]
  },
  {
   "cell_type": "code",
   "execution_count": 42,
   "id": "3fe838b4",
   "metadata": {},
   "outputs": [
    {
     "name": "stdout",
     "output_type": "stream",
     "text": [
      "0\n",
      "1\n",
      "2\n",
      "3\n",
      "4\n",
      "5\n",
      "6\n",
      "7\n",
      "8\n",
      "9\n",
      "20\n"
     ]
    }
   ],
   "source": [
    "# a while loop that works\n",
    "number_adder = 0\n",
    "\n",
    "while number_adder < 10:\n",
    "    print(number_adder)\n",
    "    number_adder += 1\n",
    "    \n",
    "print(number_adder*2)"
   ]
  },
  {
   "cell_type": "code",
   "execution_count": 43,
   "id": "95e09464",
   "metadata": {},
   "outputs": [
    {
     "ename": "KeyboardInterrupt",
     "evalue": "",
     "output_type": "error",
     "traceback": [
      "\u001b[0;31m---------------------------------------------------------------------------\u001b[0m",
      "\u001b[0;31mKeyboardInterrupt\u001b[0m                         Traceback (most recent call last)",
      "Cell \u001b[0;32mIn[43], line 4\u001b[0m\n\u001b[1;32m      2\u001b[0m number_adder \u001b[38;5;241m=\u001b[39m \u001b[38;5;241m0\u001b[39m\n\u001b[1;32m      3\u001b[0m threshold \u001b[38;5;241m=\u001b[39m \u001b[38;5;241m-\u001b[39m\u001b[38;5;241m10\u001b[39m\n\u001b[0;32m----> 4\u001b[0m \u001b[38;5;28;01mwhile\u001b[39;00m number_adder \u001b[38;5;241m>\u001b[39m\u001b[38;5;241m=\u001b[39m threshold:\n\u001b[1;32m      5\u001b[0m     number_adder \u001b[38;5;241m+\u001b[39m\u001b[38;5;241m=\u001b[39m \u001b[38;5;241m1\u001b[39m\n\u001b[1;32m      7\u001b[0m \u001b[38;5;28mprint\u001b[39m(number_adder\u001b[38;5;241m*\u001b[39m\u001b[38;5;241m2\u001b[39m)\n",
      "\u001b[0;31mKeyboardInterrupt\u001b[0m: "
     ]
    }
   ],
   "source": [
    "# a while loop that never ends\n",
    "number_adder = 0\n",
    "threshold = -10\n",
    "while number_adder >= threshold:\n",
    "    number_adder += 1\n",
    "    \n",
    "print(number_adder*2)"
   ]
  },
  {
   "cell_type": "markdown",
   "id": "c9d8d57d",
   "metadata": {},
   "source": [
    "I used the 'keyboard interrupt' button to stop this as I know that it will run infinitely - can you figure out why it would never exit?"
   ]
  },
  {
   "cell_type": "markdown",
   "id": "bd36088c",
   "metadata": {},
   "source": [
    "# Functions\n",
    "Functions take an input and produce an output. They can be mathematical, or work on strings, or do any number of operations. They are especially useful for tasks that we wish to perform multiple times as they reduce the amount of code that we need to write. They can contain conditional flow, iteration loops, and any other operation that we've covered so far (plus more).\n",
    "\n",
    "Coming back to our first 50 square numbers problem, I could write 50 lines of code that computes the square for each number, or write a for loop, or a I could write a short function and apply it to my set of numbers."
   ]
  },
  {
   "cell_type": "code",
   "execution_count": 44,
   "id": "8ab2adc5",
   "metadata": {},
   "outputs": [],
   "source": [
    "def squareFunction(last_number):\n",
    "    '''\n",
    "    A function to compute the square of a number\n",
    "    '''\n",
    "    \n",
    "    number_list = []\n",
    "    for x in range(last_number):\n",
    "        number_list.append(x ** 2)\n",
    "    \n",
    "    return(number_list)"
   ]
  },
  {
   "cell_type": "code",
   "execution_count": 45,
   "id": "56b1abab",
   "metadata": {},
   "outputs": [
    {
     "data": {
      "text/plain": [
       "[0,\n",
       " 1,\n",
       " 4,\n",
       " 9,\n",
       " 16,\n",
       " 25,\n",
       " 36,\n",
       " 49,\n",
       " 64,\n",
       " 81,\n",
       " 100,\n",
       " 121,\n",
       " 144,\n",
       " 169,\n",
       " 196,\n",
       " 225,\n",
       " 256,\n",
       " 289,\n",
       " 324,\n",
       " 361,\n",
       " 400,\n",
       " 441,\n",
       " 484,\n",
       " 529,\n",
       " 576,\n",
       " 625,\n",
       " 676,\n",
       " 729,\n",
       " 784,\n",
       " 841,\n",
       " 900,\n",
       " 961,\n",
       " 1024,\n",
       " 1089,\n",
       " 1156,\n",
       " 1225,\n",
       " 1296,\n",
       " 1369,\n",
       " 1444,\n",
       " 1521,\n",
       " 1600,\n",
       " 1681,\n",
       " 1764,\n",
       " 1849,\n",
       " 1936,\n",
       " 2025,\n",
       " 2116,\n",
       " 2209,\n",
       " 2304,\n",
       " 2401]"
      ]
     },
     "execution_count": 45,
     "metadata": {},
     "output_type": "execute_result"
    }
   ],
   "source": [
    "squareFunction(50)"
   ]
  },
  {
   "cell_type": "markdown",
   "id": "dfdee56f",
   "metadata": {},
   "source": [
    "With 4 lines of code and a definition I've compute the first 50 square numbers - much more efficient than writing out 50 lines of code, one for each number. Although this is slightly longer than the for loop I now have a function that I can use to compute the first N square numbers, where N is _any_ number. For example:"
   ]
  },
  {
   "cell_type": "code",
   "execution_count": 46,
   "id": "8e4488af",
   "metadata": {},
   "outputs": [
    {
     "data": {
      "text/plain": [
       "[0, 1]"
      ]
     },
     "execution_count": 46,
     "metadata": {},
     "output_type": "execute_result"
    }
   ],
   "source": [
    "squareFunction(2)"
   ]
  },
  {
   "cell_type": "code",
   "execution_count": 47,
   "id": "cddaa464",
   "metadata": {},
   "outputs": [
    {
     "data": {
      "text/plain": [
       "[0,\n",
       " 1,\n",
       " 4,\n",
       " 9,\n",
       " 16,\n",
       " 25,\n",
       " 36,\n",
       " 49,\n",
       " 64,\n",
       " 81,\n",
       " 100,\n",
       " 121,\n",
       " 144,\n",
       " 169,\n",
       " 196,\n",
       " 225,\n",
       " 256,\n",
       " 289,\n",
       " 324,\n",
       " 361,\n",
       " 400,\n",
       " 441,\n",
       " 484,\n",
       " 529,\n",
       " 576]"
      ]
     },
     "execution_count": 47,
     "metadata": {},
     "output_type": "execute_result"
    }
   ],
   "source": [
    "squareFunction(25)"
   ]
  },
  {
   "cell_type": "markdown",
   "id": "11ca7d1f",
   "metadata": {},
   "source": [
    "### Exercise break\n",
    "How would you modify the <span style=\"color:blue\">squareFunction()</span> to be able to compute _any_ number to _any_ power?"
   ]
  },
  {
   "cell_type": "markdown",
   "id": "5a6642f8",
   "metadata": {},
   "source": [
    "## Methods\n",
    "Methods are special types of functions that only work the data type they are defined for. We saw the use above with the <span style=\"color:blue\">.append()</span> function which adds to the end of a list. When you tried this on a tuple you got an <span style=\"color:red\">AttributeError</span> which stated that the .append function hasn't been defined for a tuple.\n",
    "\n",
    "Different data types have different built-in methods and some don't have any at all. Built-in methods are only defined for lists, strings, dicts, tuples, sets and files. Some of these work in-place i.e. they change the variable directly without returning a new version of the data type, while others return new values - refer to the [Python documentation](https://www.w3schools.com/python/python_reference.asp) to find out which methods do which.\n",
    "\n",
    "A few examples of useful methods are given below, try playing around with these and others on different data types."
   ]
  },
  {
   "cell_type": "code",
   "execution_count": 48,
   "id": "06408ac0",
   "metadata": {},
   "outputs": [
    {
     "data": {
      "text/plain": [
       "True"
      ]
     },
     "execution_count": 48,
     "metadata": {},
     "output_type": "execute_result"
    }
   ],
   "source": [
    "\"This string ends with a !\".endswith(\"!\")"
   ]
  },
  {
   "cell_type": "code",
   "execution_count": 49,
   "id": "2975254a",
   "metadata": {},
   "outputs": [
    {
     "data": {
      "text/plain": [
       "False"
      ]
     },
     "execution_count": 49,
     "metadata": {},
     "output_type": "execute_result"
    }
   ],
   "source": [
    "\"two hundred\".isnumeric()"
   ]
  },
  {
   "cell_type": "code",
   "execution_count": 50,
   "id": "53ac8211",
   "metadata": {},
   "outputs": [
    {
     "data": {
      "text/plain": [
       "True"
      ]
     },
     "execution_count": 50,
     "metadata": {},
     "output_type": "execute_result"
    }
   ],
   "source": [
    "\"200\".isnumeric()"
   ]
  },
  {
   "cell_type": "code",
   "execution_count": 51,
   "id": "cce1ef6a",
   "metadata": {},
   "outputs": [
    {
     "data": {
      "text/plain": [
       "'Mike is an awesome programmer'"
      ]
     },
     "execution_count": 51,
     "metadata": {},
     "output_type": "execute_result"
    }
   ],
   "source": [
    "string_list = [\"Mike\", \"is\", \"an\", \"awesome\", \"programmer\"]\n",
    "join_my_string = \" \".join(string_list) # remember how we did this with a for loop earlier?\n",
    "join_my_string"
   ]
  },
  {
   "cell_type": "code",
   "execution_count": 52,
   "id": "6b681548",
   "metadata": {},
   "outputs": [
    {
     "data": {
      "text/plain": [
       "['Mike', 'is', 'an', 'awesome', 'programmer']"
      ]
     },
     "execution_count": 52,
     "metadata": {},
     "output_type": "execute_result"
    }
   ],
   "source": [
    "join_my_string.split(\" \") # split and join can reverse eachothers operations if you use the same separator/joiner"
   ]
  },
  {
   "cell_type": "code",
   "execution_count": 53,
   "id": "232f5b07",
   "metadata": {},
   "outputs": [
    {
     "data": {
      "text/plain": [
       "'A LOWER CASE SENTENCE'"
      ]
     },
     "execution_count": 53,
     "metadata": {},
     "output_type": "execute_result"
    }
   ],
   "source": [
    "\"a lower case sentence\".upper()"
   ]
  },
  {
   "cell_type": "code",
   "execution_count": 54,
   "id": "ef5dab2d",
   "metadata": {},
   "outputs": [
    {
     "data": {
      "text/plain": [
       "'a lower case sentence'"
      ]
     },
     "execution_count": 54,
     "metadata": {},
     "output_type": "execute_result"
    }
   ],
   "source": [
    "# You can stack method functions together if they return the relevant input type\n",
    "\"a lower case sentence\".upper().lower()"
   ]
  },
  {
   "cell_type": "code",
   "execution_count": 55,
   "id": "2e4593f1",
   "metadata": {},
   "outputs": [
    {
     "data": {
      "text/plain": [
       "['programmer', 'awesome', 'an', 'is', 'Mike']"
      ]
     },
     "execution_count": 55,
     "metadata": {},
     "output_type": "execute_result"
    }
   ],
   "source": [
    "string_list.reverse()\n",
    "string_list"
   ]
  },
  {
   "cell_type": "code",
   "execution_count": 56,
   "id": "d52bb2a9",
   "metadata": {},
   "outputs": [
    {
     "data": {
      "text/plain": [
       "'Mike'"
      ]
     },
     "execution_count": 56,
     "metadata": {},
     "output_type": "execute_result"
    }
   ],
   "source": [
    "first_word = string_list.pop() # remove the first element in-place and return it\n",
    "first_word"
   ]
  },
  {
   "cell_type": "markdown",
   "id": "e7305eb8",
   "metadata": {},
   "source": [
    "### Exercises\n",
    "1) What happens if you keep applying the .pop() function to a list? What happens when you get to the end of the list?\n",
    "2) Can you find the method to count the number of occurences in a list? Try this with different lists and different elements.\n",
    "3) The .append methods adds to the end of a list, which method do you think glues two lists together?"
   ]
  },
  {
   "cell_type": "markdown",
   "id": "0ec0d05f",
   "metadata": {},
   "source": [
    "# Final exercise\n",
    "You have been given an mRNA sequence from a bacterial gene. Write a function or working code that will return the reverse complement of this mRNA sequence.\n",
    "\n",
    "Can you then convert it into a DNA sequence, knowing what you do about which nucleotides are found in DNA compared to RNA?\n",
    "\n",
    "Bonus exercise: can you write a function or working code to translate the original mRNA into its amino acid sequence?\n"
   ]
  },
  {
   "cell_type": "code",
   "execution_count": null,
   "id": "8639b535",
   "metadata": {},
   "outputs": [],
   "source": []
  }
 ],
 "metadata": {
  "kernelspec": {
   "display_name": "Python 3 (ipykernel)",
   "language": "python",
   "name": "python3"
  },
  "language_info": {
   "codemirror_mode": {
    "name": "ipython",
    "version": 3
   },
   "file_extension": ".py",
   "mimetype": "text/x-python",
   "name": "python",
   "nbconvert_exporter": "python",
   "pygments_lexer": "ipython3",
   "version": "3.11.4"
  }
 },
 "nbformat": 4,
 "nbformat_minor": 5
}

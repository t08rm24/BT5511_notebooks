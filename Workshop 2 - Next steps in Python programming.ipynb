{
 "cells": [
  {
   "cell_type": "markdown",
   "id": "11a253fb",
   "metadata": {},
   "source": [
    "# Intermediate Python programming - modules, data containers and regular expressions\n",
    "\n",
    "Today we will spend a small time on external code (modules/packages), a medium amount of time on data containers, and most of the session on practising regular expressions."
   ]
  },
  {
   "cell_type": "markdown",
   "id": "acb713a0",
   "metadata": {},
   "source": [
    "# Modules\n",
    "In Python, third party or external code is called a 'module' or 'package'. These refer to  organised code written by others to perform particular tasks. The Python language as standard comes with many additional modules that are useful for a range of commonly-performed tasks, e.g. manipulating regular expressions, interacting with the operating system and command-line, etc. There is a _huge_ ecosystem of modules available, many of which are available through the PyPI repository: https://pypi.org/.\n",
    "\n",
    "We will use many of these modules in todays and future workshops. Code sharing is a standard practise in research, because in science we have to be transparent. If other researchers can't replicate our analyses then it reduces the quality of our science and the impact of our work. In contrast, private companies often have to strike a balance between intellectual property and transparency."
   ]
  },
  {
   "cell_type": "markdown",
   "id": "d6eb0f5a",
   "metadata": {},
   "source": [
    "Loading a module into your session or script is very simple:"
   ]
  },
  {
   "cell_type": "code",
   "execution_count": 1,
   "id": "1128d1b3",
   "metadata": {},
   "outputs": [],
   "source": [
    "import os"
   ]
  },
  {
   "cell_type": "markdown",
   "id": "3398883c",
   "metadata": {},
   "source": [
    "This makes the functions in the `os` module available to you. We reference them with 'package.function', for example:"
   ]
  },
  {
   "cell_type": "code",
   "execution_count": 3,
   "id": "6e657521",
   "metadata": {},
   "outputs": [
    {
     "data": {
      "text/plain": [
       "['Code_example.png',\n",
       " '.DS_Store',\n",
       " 'Workshop 1 - An introduction to Python programming.ipynb',\n",
       " 'ExerciseData',\n",
       " 'Code_markdown_menu.png',\n",
       " 'Markdown_example.png',\n",
       " 'Workshop 2.ipynb',\n",
       " 'syntax_highlight.png',\n",
       " 'kernel_restart.png',\n",
       " '.ipynb_checkpoints',\n",
       " 'Workshop 1 - An introduction to Python programming.html',\n",
       " '2023-08-24_getting_started.docx']"
      ]
     },
     "execution_count": 3,
     "metadata": {},
     "output_type": "execute_result"
    }
   ],
   "source": [
    "os.listdir()"
   ]
  },
  {
   "cell_type": "markdown",
   "id": "319c1042",
   "metadata": {},
   "source": [
    "The output here is the current working directory (this is the default).\n",
    "\n",
    "Some modules have sub-modules, and we use further full-stops to access the functions in these sub-modules."
   ]
  },
  {
   "cell_type": "code",
   "execution_count": 8,
   "id": "87c20d41",
   "metadata": {},
   "outputs": [
    {
     "data": {
      "text/plain": [
       "True"
      ]
     },
     "execution_count": 8,
     "metadata": {},
     "output_type": "execute_result"
    }
   ],
   "source": [
    "os.path.exists(\"/\")"
   ]
  },
  {
   "cell_type": "markdown",
   "id": "44a0302e",
   "metadata": {},
   "source": [
    "Here the sub-module of `os` is `path`, which provides functions for checking file paths on your operating system."
   ]
  },
  {
   "cell_type": "markdown",
   "id": "93fe707e",
   "metadata": {},
   "source": [
    "__Exercise break__\n",
    "Spend 5 minutes looking up some modules in PyPI under [bioinformatics](https://pypi.org/search/?q=&o=&c=Topic+%3A%3A+Scientific%2FEngineering+%3A%3A+Bio-Informatics). You'll find they have lots of information about the modules, including a description of the functionality, documentation and who the creator and maintainers. Some will also have a link to the the application programming interface (API) - this is how many programmers find out how to use specific module functions, and is what is generated when you use the `help()` function."
   ]
  },
  {
   "cell_type": "markdown",
   "id": "62eea4a1",
   "metadata": {},
   "source": [
    "# Data containers - numpy and pandas\n",
    "We've already seen the basic (in-built) data container types: list, dicts and tuples. However, these are limited by several factors: 1) none of them represent an intuitive table-like data structure, 2) nested lists of lists or dicts of lists can become very unweildy very quickly, 3) none are optimised for memory and access performance.\n",
    "\n",
    "This is where 2 modules come to our aid: `pandas` gives us `data frames` (i.e. tables) and `numpy` gives us `arrays` (i.e. more data tables). At first you might wonder why we need both. The answer is that pandas is _built on top of numpy_. That means that numpy came first and goes beyond simple data tables (arrays are more like matrices from linear algebra) and can extend to multiple dimensions but are limited by only being allowed to contain a single type of data, e.g. all floats or all strings. In contrast, data frames are more flexible and contain mixtures of data types in their columns, much more like an excel spreadsheet, and therefore more intuitive."
   ]
  },
  {
   "cell_type": "markdown",
   "id": "5ecc6e4e",
   "metadata": {},
   "source": [
    "## Indexing and slicing\n",
    "A quick aside on how to index/slice in Python, as this applies to both arrays and data frames. Indexing refers to selecting a specific element or set of elements from a data container. Lists, tuples, strings and arrays can be indexed or sliced, where as sets and numbers cannot.\n",
    "\n",
    "To index we select a single element using square brackets '[ ]' and a number:"
   ]
  },
  {
   "cell_type": "code",
   "execution_count": 13,
   "id": "888e0d75",
   "metadata": {},
   "outputs": [
    {
     "data": {
      "text/plain": [
       "'Mike'"
      ]
     },
     "execution_count": 13,
     "metadata": {},
     "output_type": "execute_result"
    }
   ],
   "source": [
    "myList = [\"Mike\", \"Ellie\", \"Kim\", \"Luna\"]\n",
    "myList[0]\n",
    "# note that Python is a 0-based language"
   ]
  },
  {
   "cell_type": "markdown",
   "id": "0f5a9ee0",
   "metadata": {},
   "source": [
    "To take a slice we use the same square brackets, but we provide the index for the first element and number _after_ the last element. This is because Python uses an right-hand closed system, so the number at the end of the slice _is not included_."
   ]
  },
  {
   "cell_type": "code",
   "execution_count": 15,
   "id": "035f1529",
   "metadata": {},
   "outputs": [
    {
     "data": {
      "text/plain": [
       "['Ellie', 'Kim']"
      ]
     },
     "execution_count": 15,
     "metadata": {},
     "output_type": "execute_result"
    }
   ],
   "source": [
    "myList[1:3]\n",
    "# note that index 3 is NOT included and the '1' index is the 2nd element because Python starts counting at 0!"
   ]
  },
  {
   "cell_type": "markdown",
   "id": "4ec8d13f",
   "metadata": {},
   "source": [
    "We can also skip elements by taking a slice with a step size (the default is 1, and therefore is _implicit_)."
   ]
  },
  {
   "cell_type": "code",
   "execution_count": 17,
   "id": "13ace30f",
   "metadata": {},
   "outputs": [
    {
     "data": {
      "text/plain": [
       "['Mike', 'Kim']"
      ]
     },
     "execution_count": 17,
     "metadata": {},
     "output_type": "execute_result"
    }
   ],
   "source": [
    "myList[::2] # the first 2 indices are empty, which just defaults to the first and last"
   ]
  },
  {
   "cell_type": "markdown",
   "id": "4f6465c7",
   "metadata": {},
   "source": [
    "You can also include negative numbers as indices, for instance to select the last element:"
   ]
  },
  {
   "cell_type": "code",
   "execution_count": 18,
   "id": "3496cf19",
   "metadata": {},
   "outputs": [
    {
     "data": {
      "text/plain": [
       "'Luna'"
      ]
     },
     "execution_count": 18,
     "metadata": {},
     "output_type": "execute_result"
    }
   ],
   "source": [
    "myList[-1]"
   ]
  },
  {
   "cell_type": "markdown",
   "id": "ad27e546",
   "metadata": {},
   "source": [
    "You can also reverse a list using slicing:"
   ]
  },
  {
   "cell_type": "code",
   "execution_count": 48,
   "id": "18f9727b",
   "metadata": {},
   "outputs": [
    {
     "data": {
      "text/plain": [
       "['Luna', 'Kim', 'Ellie', 'Mike']"
      ]
     },
     "execution_count": 48,
     "metadata": {},
     "output_type": "execute_result"
    }
   ],
   "source": [
    "myList[::-1]"
   ]
  },
  {
   "cell_type": "markdown",
   "id": "7fac356d",
   "metadata": {},
   "source": [
    "Note that indices have to be whole numbers, you can't use a fraction (float):"
   ]
  },
  {
   "cell_type": "code",
   "execution_count": 49,
   "id": "de7a671a",
   "metadata": {},
   "outputs": [
    {
     "ename": "TypeError",
     "evalue": "list indices must be integers or slices, not float",
     "output_type": "error",
     "traceback": [
      "\u001b[0;31m---------------------------------------------------------------------------\u001b[0m",
      "\u001b[0;31mTypeError\u001b[0m                                 Traceback (most recent call last)",
      "Cell \u001b[0;32mIn[49], line 1\u001b[0m\n\u001b[0;32m----> 1\u001b[0m myList[\u001b[38;5;241m0.42\u001b[39m]\n",
      "\u001b[0;31mTypeError\u001b[0m: list indices must be integers or slices, not float"
     ]
    }
   ],
   "source": [
    "myList[0.42]"
   ]
  },
  {
   "cell_type": "markdown",
   "id": "f8f3fa39",
   "metadata": {},
   "source": [
    "__Exercise break__: Create a list and try out some of the indexing and slicing. What happens if you use a list of lists?"
   ]
  },
  {
   "cell_type": "markdown",
   "id": "c1e760d9",
   "metadata": {},
   "source": [
    "## Numpy arrays\n",
    "Numpy arrays must contain a single data type, e.g. float, integer or string. They can be used as vectors 1 x N dimensions, matrices N x M dimensions or arrays N x M x P dimensions.\n",
    "\n",
    "Example usage. Imagine we have 5 DNA sequences that we want to align using BLAST, and then record whether the nucleotides match at each position or not. We could have 5 lists that record which positions match against which other sequences at each nucleotide position. We would need a pair of lists for each pair of sequences - this could get very messy if we had very long DNA sequences or indeed more than 5 to compare. Instead, we could record for each pair of sequences which nucleotides match using an array."
   ]
  },
  {
   "cell_type": "code",
   "execution_count": 39,
   "id": "33bb0a41",
   "metadata": {},
   "outputs": [
    {
     "data": {
      "text/plain": [
       "336"
      ]
     },
     "execution_count": 39,
     "metadata": {},
     "output_type": "execute_result"
    }
   ],
   "source": [
    "import numpy as np\n",
    "dna_seqs = ['ATGGGACTGCCCTTGATGCCTCACGTATCCAAAAGCGTATCATGGAGCACTCGGAAACGCACTATAGCAATACCAGACCGTGATATACAACCAGATCACTCTACGATTAAACGACTGCGCCGCCGTATTGCGCTGCTTATCCGAGAAGCAGTCCCTCGTGCGACGCAGCACCAAGAACAAGTCTCAGAGTACCTTTGGACGTATGACTTCAGGATCGAGTCGGCGGCTAGGTTCTATGGGGAGCTCCGTGATAGGTCATCTAGACAGGGTGTGTATTATTTGAGAGTAAAACGAAATCCTCCTCGCATGTACGGGTCAATGGAATTCCCGGTCAGA',\n",
    "            'ATGGACACCTGGACATACTCCCAAGAGGCTGGAGCAGTGCCCCATTCCTCGGTGCCTCAAGTTCTGGGAATGTGCAATCCTCCGCGAGACATTCAAGGTTTCAGACCACGCGATCGGGTTAAGATACTATCTCAAGTACTTCTTTCGTGTAAGGCACCACTAGAATTGCTTACTTATCCAGGCGGACAAACTGCAATCCTATCTTCATGGGGGGTAGATTTACCATTTTGTAAGAATCTAGACGCACCACGTGGGCGTAGCGACAGGGAGACACAATGGAGCTGCATGATATGGCGGGATCCAAGATCCATGGCGAGCGCGTCATACTTTAGGTGC',\n",
    "            'ATGGTGCGCACGATTGAGTTGGAATTAGTCCCCAGACTGGCGACCATTACATACACCCTCCACCTTCCACGTCGGTTCAGCACGGGGTGGTGTTTCTCTCCAACACGAGGCCCGGGCGAATTAGTATTGATAATGCCTGGGCAGACAGCACTGGCCCGGCAGGAGATACTGGGCGATGGAAGACGTGGGTTAAGGCACGTCGGTTCTCTAGGTTTTCTATACTGGGCACGGAAGTTAGGGGCTAAAGAGCAACATACCTCTCCGCTGTCGGTCGATAGTGAGTCTTGCATAGCGATTGCTAAGAGCCTAGTTAAGCATACTCGTAACCGCGCCGCG',\n",
    "            'ATGCCTCCCGGTATCGCTGAGGCCCTAGCAAACGCACAGATCAACCAACTTGTGTCTAACGCCATGGGATCTGCCGCATTAGCTAACAATATTACGCCTATAACGCACGGCTTACCTTTCAAATGTGCTGACCAAGTGGCCTCGATACAATTAGGGACTACAGGGGATAGATGTGCAAGTTTGTTTCTATCAGCGCCGGTGATTCTACGACCGTGTAATCAGAGGGCAGCGAAGATGGATAAGGGGTTGACCAACATGCTCAGTAATGATCCAGGAGCCGGTTATGCCATGCGAATATGCATGTGCACAGTAGCCGGGAGAGCTTGTATTCGTATA',\n",
    "            'ATGACCCCACGCGGACCGTCAGGAGAAATCCTCTCACGGGATCCCGTCACTGTAACGCTCAGGGTCTTACGGCAACTCGAATGCTGTCGAAAATGTGGCAGTCAATCTCTATACCGGGGTCCGAGCTTTTTACATGTAATTTTGCAAGAATTCTTATATAGCACGATGAGACACGTACCCGATCACTTCGCCCAGCATACACTGATTAATACCGTCTATGTGATGTATTTACTTAAGACTCTCGCAACACCCGTGGCTTGGCGAAGTCTATCTGCACTAGTCGGGTCAGCCGTGCGGCGCGCACACACATCAAAGTGGCCGCAGTTGAGCGCAGTG']\n",
    "\n",
    "len(dna_seqs[0])"
   ]
  },
  {
   "cell_type": "markdown",
   "id": "3a1de7fd",
   "metadata": {},
   "source": [
    "We create a 5 x 5 x 336 array."
   ]
  },
  {
   "cell_type": "code",
   "execution_count": 40,
   "id": "949727c3",
   "metadata": {
    "scrolled": true
   },
   "outputs": [
    {
     "data": {
      "text/plain": [
       "array([[[0.00000000e+000, 0.00000000e+000, 0.00000000e+000, ...,\n",
       "         0.00000000e+000, 0.00000000e+000, 0.00000000e+000],\n",
       "        [0.00000000e+000, 0.00000000e+000, 0.00000000e+000, ...,\n",
       "         0.00000000e+000, 0.00000000e+000, 0.00000000e+000],\n",
       "        [0.00000000e+000, 0.00000000e+000, 0.00000000e+000, ...,\n",
       "         0.00000000e+000, 0.00000000e+000, 0.00000000e+000],\n",
       "        [0.00000000e+000, 0.00000000e+000, 0.00000000e+000, ...,\n",
       "         0.00000000e+000, 0.00000000e+000, 0.00000000e+000],\n",
       "        [0.00000000e+000, 0.00000000e+000, 0.00000000e+000, ...,\n",
       "         0.00000000e+000, 0.00000000e+000, 0.00000000e+000]],\n",
       "\n",
       "       [[0.00000000e+000, 0.00000000e+000, 0.00000000e+000, ...,\n",
       "         0.00000000e+000, 0.00000000e+000, 0.00000000e+000],\n",
       "        [0.00000000e+000, 0.00000000e+000, 0.00000000e+000, ...,\n",
       "         0.00000000e+000, 0.00000000e+000, 0.00000000e+000],\n",
       "        [0.00000000e+000, 0.00000000e+000, 0.00000000e+000, ...,\n",
       "         0.00000000e+000, 0.00000000e+000, 0.00000000e+000],\n",
       "        [0.00000000e+000, 0.00000000e+000, 0.00000000e+000, ...,\n",
       "         0.00000000e+000, 0.00000000e+000, 0.00000000e+000],\n",
       "        [0.00000000e+000, 0.00000000e+000, 0.00000000e+000, ...,\n",
       "         0.00000000e+000, 0.00000000e+000, 0.00000000e+000]],\n",
       "\n",
       "       [[0.00000000e+000, 0.00000000e+000, 0.00000000e+000, ...,\n",
       "         0.00000000e+000, 0.00000000e+000, 0.00000000e+000],\n",
       "        [0.00000000e+000, 0.00000000e+000, 0.00000000e+000, ...,\n",
       "         0.00000000e+000, 0.00000000e+000, 0.00000000e+000],\n",
       "        [0.00000000e+000, 0.00000000e+000, 0.00000000e+000, ...,\n",
       "                     nan,             nan,             nan],\n",
       "        [1.81627758e-292,             nan,             nan, ...,\n",
       "                     nan,             nan,             nan],\n",
       "        [4.69726959e-293,             nan,             nan, ...,\n",
       "                     nan, 1.48184108e-297, 2.24193315e-300]],\n",
       "\n",
       "       [[            nan, 2.38150942e-287, 5.74880350e-288, ...,\n",
       "         2.23608796e-314, 2.23700753e-314, 2.23608737e-314],\n",
       "        [2.23699795e-314, 2.23608772e-314, 2.23282219e-314, ...,\n",
       "         2.24773614e-314, 2.24772093e-314, 2.24670285e-314],\n",
       "        [2.24780831e-314, 2.24780875e-314, 2.24780851e-314, ...,\n",
       "         2.25061851e-314, 2.25038126e-314, 2.25061562e-314],\n",
       "        [2.25038134e-314, 2.25068580e-314, 2.25038142e-314, ...,\n",
       "         2.25558724e-314, 2.25516255e-314, 2.25558795e-314],\n",
       "        [2.25516246e-314, 2.25558890e-314, 2.25516230e-314, ...,\n",
       "         2.25873531e-314, 2.25873451e-314, 2.25873476e-314]],\n",
       "\n",
       "       [[2.25869289e-314, 2.25873436e-314, 0.00000000e+000, ...,\n",
       "         2.26261958e-314, 2.25864851e-314, 2.26257397e-314],\n",
       "        [0.00000000e+000, 0.00000000e+000, 2.26261237e-314, ...,\n",
       "         0.00000000e+000, 2.26356907e-314, 2.26359099e-314],\n",
       "        [0.00000000e+000, 0.00000000e+000, 0.00000000e+000, ...,\n",
       "         2.27902393e-314, 0.00000000e+000, 0.00000000e+000],\n",
       "        [2.27902357e-314, 2.27902579e-314, 0.00000000e+000, ...,\n",
       "         0.00000000e+000, 2.28259952e-314, 2.28329453e-314],\n",
       "        [0.00000000e+000, 0.00000000e+000, 2.28329449e-314, ...,\n",
       "         0.00000000e+000, 0.00000000e+000, 0.00000000e+000]]])"
      ]
     },
     "execution_count": 40,
     "metadata": {},
     "output_type": "execute_result"
    }
   ],
   "source": [
    "dna_array = np.ndarray((5, 5, 336))\n",
    "dna_array"
   ]
  },
  {
   "cell_type": "markdown",
   "id": "e570d5f6",
   "metadata": {},
   "source": [
    "This array has random numbers in it because it is assigned to specific piece of memory, so takes on the values in that memory block. It is better practise, and therefore less accident prone, to create an all-zeros array."
   ]
  },
  {
   "cell_type": "code",
   "execution_count": 41,
   "id": "f88382d5",
   "metadata": {},
   "outputs": [
    {
     "data": {
      "text/plain": [
       "array([[[0., 0., 0., ..., 0., 0., 0.],\n",
       "        [0., 0., 0., ..., 0., 0., 0.],\n",
       "        [0., 0., 0., ..., 0., 0., 0.],\n",
       "        [0., 0., 0., ..., 0., 0., 0.],\n",
       "        [0., 0., 0., ..., 0., 0., 0.]],\n",
       "\n",
       "       [[0., 0., 0., ..., 0., 0., 0.],\n",
       "        [0., 0., 0., ..., 0., 0., 0.],\n",
       "        [0., 0., 0., ..., 0., 0., 0.],\n",
       "        [0., 0., 0., ..., 0., 0., 0.],\n",
       "        [0., 0., 0., ..., 0., 0., 0.]],\n",
       "\n",
       "       [[0., 0., 0., ..., 0., 0., 0.],\n",
       "        [0., 0., 0., ..., 0., 0., 0.],\n",
       "        [0., 0., 0., ..., 0., 0., 0.],\n",
       "        [0., 0., 0., ..., 0., 0., 0.],\n",
       "        [0., 0., 0., ..., 0., 0., 0.]],\n",
       "\n",
       "       [[0., 0., 0., ..., 0., 0., 0.],\n",
       "        [0., 0., 0., ..., 0., 0., 0.],\n",
       "        [0., 0., 0., ..., 0., 0., 0.],\n",
       "        [0., 0., 0., ..., 0., 0., 0.],\n",
       "        [0., 0., 0., ..., 0., 0., 0.]],\n",
       "\n",
       "       [[0., 0., 0., ..., 0., 0., 0.],\n",
       "        [0., 0., 0., ..., 0., 0., 0.],\n",
       "        [0., 0., 0., ..., 0., 0., 0.],\n",
       "        [0., 0., 0., ..., 0., 0., 0.],\n",
       "        [0., 0., 0., ..., 0., 0., 0.]]])"
      ]
     },
     "execution_count": 41,
     "metadata": {},
     "output_type": "execute_result"
    }
   ],
   "source": [
    "dna_array = np.zeros((5, 5, 336))\n",
    "dna_array"
   ]
  },
  {
   "cell_type": "code",
   "execution_count": 42,
   "id": "873e1a3a",
   "metadata": {},
   "outputs": [
    {
     "data": {
      "text/plain": [
       "(5, 5, 336)"
      ]
     },
     "execution_count": 42,
     "metadata": {},
     "output_type": "execute_result"
    }
   ],
   "source": [
    "dna_array.shape"
   ]
  },
  {
   "cell_type": "markdown",
   "id": "405ec821",
   "metadata": {},
   "source": [
    "We can now use this to store which nucleotides match for each pair of sequences."
   ]
  },
  {
   "cell_type": "code",
   "execution_count": 43,
   "id": "9c15d7cc",
   "metadata": {},
   "outputs": [],
   "source": [
    "for idx1 in range(len(dna_seqs)):\n",
    "    # loop 1 gets each seq\n",
    "    # loop 2 gets the other seq to compare to.\n",
    "    seq1 = dna_seqs[idx1]\n",
    "    for idx2 in range(len(dna_seqs)):\n",
    "        seq2 = dna_seqs[idx2]\n",
    "        # assume the sequences are the same length\n",
    "        for nt in range(len(seq1)):\n",
    "            if seq1[nt] == seq2[nt]:\n",
    "                dna_array[idx1, idx2, nt] = 1\n",
    "            else:\n",
    "                dna_array[idx1, idx2, nt] = 0 # we don't actually need this because the default value is already 0"
   ]
  },
  {
   "cell_type": "code",
   "execution_count": 46,
   "id": "1da9ffc1",
   "metadata": {},
   "outputs": [
    {
     "data": {
      "text/plain": [
       "array([1., 1., 1., 1., 1., 1., 1., 1., 1., 1., 1., 1., 1., 1., 1., 1., 1.,\n",
       "       1., 1., 1., 1., 1., 1., 1., 1., 1., 1., 1., 1., 1., 1., 1., 1., 1.,\n",
       "       1., 1., 1., 1., 1., 1., 1., 1., 1., 1., 1., 1., 1., 1., 1., 1., 1.,\n",
       "       1., 1., 1., 1., 1., 1., 1., 1., 1., 1., 1., 1., 1., 1., 1., 1., 1.,\n",
       "       1., 1., 1., 1., 1., 1., 1., 1., 1., 1., 1., 1., 1., 1., 1., 1., 1.,\n",
       "       1., 1., 1., 1., 1., 1., 1., 1., 1., 1., 1., 1., 1., 1., 1., 1., 1.,\n",
       "       1., 1., 1., 1., 1., 1., 1., 1., 1., 1., 1., 1., 1., 1., 1., 1., 1.,\n",
       "       1., 1., 1., 1., 1., 1., 1., 1., 1., 1., 1., 1., 1., 1., 1., 1., 1.,\n",
       "       1., 1., 1., 1., 1., 1., 1., 1., 1., 1., 1., 1., 1., 1., 1., 1., 1.,\n",
       "       1., 1., 1., 1., 1., 1., 1., 1., 1., 1., 1., 1., 1., 1., 1., 1., 1.,\n",
       "       1., 1., 1., 1., 1., 1., 1., 1., 1., 1., 1., 1., 1., 1., 1., 1., 1.,\n",
       "       1., 1., 1., 1., 1., 1., 1., 1., 1., 1., 1., 1., 1., 1., 1., 1., 1.,\n",
       "       1., 1., 1., 1., 1., 1., 1., 1., 1., 1., 1., 1., 1., 1., 1., 1., 1.,\n",
       "       1., 1., 1., 1., 1., 1., 1., 1., 1., 1., 1., 1., 1., 1., 1., 1., 1.,\n",
       "       1., 1., 1., 1., 1., 1., 1., 1., 1., 1., 1., 1., 1., 1., 1., 1., 1.,\n",
       "       1., 1., 1., 1., 1., 1., 1., 1., 1., 1., 1., 1., 1., 1., 1., 1., 1.,\n",
       "       1., 1., 1., 1., 1., 1., 1., 1., 1., 1., 1., 1., 1., 1., 1., 1., 1.,\n",
       "       1., 1., 1., 1., 1., 1., 1., 1., 1., 1., 1., 1., 1., 1., 1., 1., 1.,\n",
       "       1., 1., 1., 1., 1., 1., 1., 1., 1., 1., 1., 1., 1., 1., 1., 1., 1.,\n",
       "       1., 1., 1., 1., 1., 1., 1., 1., 1., 1., 1., 1., 1.])"
      ]
     },
     "execution_count": 46,
     "metadata": {},
     "output_type": "execute_result"
    }
   ],
   "source": [
    "dna_array[1, 1, :] # sequence 1 matches perfectly to itself"
   ]
  },
  {
   "cell_type": "code",
   "execution_count": 47,
   "id": "15d440ce",
   "metadata": {},
   "outputs": [
    {
     "data": {
      "text/plain": [
       "array([1., 1., 1., 0., 0., 1., 0., 1., 0., 0., 1., 0., 0., 0., 1., 0., 0.,\n",
       "       0., 1., 1., 0., 0., 0., 1., 1., 1., 0., 0., 0., 0., 0., 0., 0., 0.,\n",
       "       1., 1., 0., 0., 1., 0., 0., 0., 1., 0., 0., 0., 0., 1., 0., 1., 0.,\n",
       "       1., 1., 0., 0., 1., 0., 1., 0., 0., 0., 0., 0., 0., 1., 0., 0., 0.,\n",
       "       1., 0., 0., 1., 0., 0., 0., 0., 0., 0., 0., 0., 0., 0., 0., 0., 0.,\n",
       "       1., 0., 0., 0., 0., 1., 0., 0., 0., 0., 0., 1., 1., 0., 0., 0., 0.,\n",
       "       0., 0., 1., 0., 1., 0., 1., 0., 0., 0., 1., 0., 1., 1., 1., 1., 0.,\n",
       "       1., 0., 0., 1., 1., 0., 0., 0., 1., 0., 1., 0., 0., 1., 1., 0., 1.,\n",
       "       1., 1., 0., 1., 1., 0., 1., 0., 0., 0., 0., 0., 0., 0., 0., 0., 0.,\n",
       "       0., 0., 1., 0., 0., 0., 0., 0., 0., 0., 0., 0., 0., 1., 1., 0., 0.,\n",
       "       0., 0., 0., 0., 0., 0., 0., 1., 1., 0., 1., 0., 0., 0., 0., 0., 0.,\n",
       "       0., 0., 0., 1., 0., 0., 0., 0., 0., 0., 0., 0., 0., 1., 0., 0., 0.,\n",
       "       0., 0., 0., 0., 0., 0., 0., 0., 0., 1., 1., 0., 0., 1., 1., 0., 1.,\n",
       "       0., 0., 0., 0., 1., 0., 1., 1., 0., 0., 0., 0., 0., 1., 1., 0., 0.,\n",
       "       0., 0., 0., 0., 1., 1., 1., 1., 0., 1., 1., 1., 0., 0., 1., 0., 1.,\n",
       "       0., 0., 1., 0., 1., 0., 0., 0., 0., 1., 1., 0., 0., 0., 0., 0., 1.,\n",
       "       0., 0., 0., 1., 0., 0., 0., 0., 0., 1., 0., 1., 0., 0., 0., 0., 0.,\n",
       "       0., 0., 0., 0., 1., 1., 1., 1., 0., 0., 0., 0., 1., 1., 0., 0., 0.,\n",
       "       0., 1., 0., 0., 0., 0., 0., 0., 1., 0., 1., 0., 0., 1., 1., 0., 0.,\n",
       "       0., 1., 0., 0., 0., 0., 0., 0., 0., 0., 0., 0., 0.])"
      ]
     },
     "execution_count": 47,
     "metadata": {},
     "output_type": "execute_result"
    }
   ],
   "source": [
    "dna_array[1, 4, :] "
   ]
  },
  {
   "cell_type": "markdown",
   "id": "c12135e5",
   "metadata": {},
   "source": [
    "__Exercise break__\n",
    "Can you find the 2 sequences that have the closest match to each other? How many sequences match at the first nucleotide, or the 100th?"
   ]
  },
  {
   "cell_type": "markdown",
   "id": "5f068fbd",
   "metadata": {},
   "source": [
    "## Data frames\n",
    "Data frames are provided by the `pandas` Python module: https://pandas.pydata.org/\n",
    "\n",
    "These are N x M dimension tables which allow you to index the rows or columns, and store mixed data types in the columns. Note that each column must still contain a single type of data, i.e. integer, float or string.\n",
    "\n",
    "Data frames can be created from lists, dicts and/or numpy arrays. There are also functions to read data from a files directly into a data frame."
   ]
  },
  {
   "cell_type": "markdown",
   "id": "a1773510",
   "metadata": {},
   "source": [
    "### Data frame from list, dicts and arrays"
   ]
  },
  {
   "cell_type": "code",
   "execution_count": 55,
   "id": "0c7700bb",
   "metadata": {},
   "outputs": [],
   "source": [
    "import pandas as pd"
   ]
  },
  {
   "cell_type": "code",
   "execution_count": 75,
   "id": "5fe3dc6c",
   "metadata": {},
   "outputs": [],
   "source": [
    "phone_book = {\"Names\": [\"Mike\", \"Daniel\", \"Ellie\", \"Heather\"],\n",
    "             \"Office\": [\"6.17\", \"5.23\", \"3.20\", \"3.18\"],\n",
    "             \"Department\": [\"Immunology\", \"Neuroscience\", \"Developmental Biology\", \"Immunology\"]}\n",
    "pb_df = pd.DataFrame(phone_book)"
   ]
  },
  {
   "cell_type": "markdown",
   "id": "8fdf9742",
   "metadata": {},
   "source": [
    "![Anatomy of a data frame](df_anatomy.png)"
   ]
  },
  {
   "cell_type": "markdown",
   "id": "74f4f6a9",
   "metadata": {},
   "source": [
    "Each row has an index - here it is a number (default), but this can also be a string which uniquely identifies each row, for example a sample identifier. Each column then contains data in the same type (string, float, string) corresponding to the data in our data frame.\n",
    "\n",
    "We can index the data frame by either the columns or the rows to return a `Series`. To index the rows we use the `.loc` and `.iloc` functions."
   ]
  },
  {
   "cell_type": "code",
   "execution_count": 76,
   "id": "593c6254",
   "metadata": {},
   "outputs": [
    {
     "data": {
      "text/plain": [
       "pandas.core.series.Series"
      ]
     },
     "execution_count": 76,
     "metadata": {},
     "output_type": "execute_result"
    }
   ],
   "source": [
    "type(pb_df.iloc[0, :])"
   ]
  },
  {
   "cell_type": "code",
   "execution_count": 77,
   "id": "136fd4a8",
   "metadata": {},
   "outputs": [
    {
     "data": {
      "text/plain": [
       "Names               Mike\n",
       "Office              6.17\n",
       "Department    Immunology\n",
       "Name: 0, dtype: object"
      ]
     },
     "execution_count": 77,
     "metadata": {},
     "output_type": "execute_result"
    }
   ],
   "source": [
    "pb_df.iloc[0, :]"
   ]
  },
  {
   "cell_type": "markdown",
   "id": "df1b9025",
   "metadata": {},
   "source": [
    "The columns can be accessed/sliced using the names or the column indices."
   ]
  },
  {
   "cell_type": "code",
   "execution_count": 78,
   "id": "c89d2fc4",
   "metadata": {},
   "outputs": [
    {
     "data": {
      "text/plain": [
       "0       Mike\n",
       "1     Daniel\n",
       "2      Ellie\n",
       "3    Heather\n",
       "Name: Names, dtype: object"
      ]
     },
     "execution_count": 78,
     "metadata": {},
     "output_type": "execute_result"
    }
   ],
   "source": [
    "pb_df.iloc[:, 0] # the first column"
   ]
  },
  {
   "cell_type": "code",
   "execution_count": 79,
   "id": "d2bc7f00",
   "metadata": {},
   "outputs": [
    {
     "data": {
      "text/plain": [
       "0       Mike\n",
       "1     Daniel\n",
       "2      Ellie\n",
       "3    Heather\n",
       "Name: Names, dtype: object"
      ]
     },
     "execution_count": 79,
     "metadata": {},
     "output_type": "execute_result"
    }
   ],
   "source": [
    "pb_df[\"Names\"]"
   ]
  },
  {
   "cell_type": "code",
   "execution_count": 80,
   "id": "e7aa9468",
   "metadata": {},
   "outputs": [
    {
     "data": {
      "text/plain": [
       "0    True\n",
       "1    True\n",
       "2    True\n",
       "3    True\n",
       "Name: Names, dtype: bool"
      ]
     },
     "execution_count": 80,
     "metadata": {},
     "output_type": "execute_result"
    }
   ],
   "source": [
    "pb_df.iloc[:, 0] == pb_df[\"Names\"] # these are equivalent."
   ]
  },
  {
   "cell_type": "markdown",
   "id": "df27af42",
   "metadata": {},
   "source": [
    "We can set the row index (if it is only the default) using the `.set_index()` function. We have to tell the function which column to create the index from, whether to then keep that column in the data frame (the default is to drop it), and if we want to return a new dataframe or perform the operation _in place_ (the default is to return a new data frame)."
   ]
  },
  {
   "cell_type": "code",
   "execution_count": 83,
   "id": "1f624766",
   "metadata": {},
   "outputs": [
    {
     "data": {
      "text/html": [
       "<div>\n",
       "<style scoped>\n",
       "    .dataframe tbody tr th:only-of-type {\n",
       "        vertical-align: middle;\n",
       "    }\n",
       "\n",
       "    .dataframe tbody tr th {\n",
       "        vertical-align: top;\n",
       "    }\n",
       "\n",
       "    .dataframe thead th {\n",
       "        text-align: right;\n",
       "    }\n",
       "</style>\n",
       "<table border=\"1\" class=\"dataframe\">\n",
       "  <thead>\n",
       "    <tr style=\"text-align: right;\">\n",
       "      <th></th>\n",
       "      <th>Names</th>\n",
       "      <th>Office</th>\n",
       "      <th>Department</th>\n",
       "    </tr>\n",
       "    <tr>\n",
       "      <th>Names</th>\n",
       "      <th></th>\n",
       "      <th></th>\n",
       "      <th></th>\n",
       "    </tr>\n",
       "  </thead>\n",
       "  <tbody>\n",
       "    <tr>\n",
       "      <th>Mike</th>\n",
       "      <td>Mike</td>\n",
       "      <td>6.17</td>\n",
       "      <td>Immunology</td>\n",
       "    </tr>\n",
       "    <tr>\n",
       "      <th>Daniel</th>\n",
       "      <td>Daniel</td>\n",
       "      <td>5.23</td>\n",
       "      <td>Neuroscience</td>\n",
       "    </tr>\n",
       "    <tr>\n",
       "      <th>Ellie</th>\n",
       "      <td>Ellie</td>\n",
       "      <td>3.20</td>\n",
       "      <td>Developmental Biology</td>\n",
       "    </tr>\n",
       "    <tr>\n",
       "      <th>Heather</th>\n",
       "      <td>Heather</td>\n",
       "      <td>3.18</td>\n",
       "      <td>Immunology</td>\n",
       "    </tr>\n",
       "  </tbody>\n",
       "</table>\n",
       "</div>"
      ],
      "text/plain": [
       "           Names Office             Department\n",
       "Names                                         \n",
       "Mike        Mike   6.17             Immunology\n",
       "Daniel    Daniel   5.23           Neuroscience\n",
       "Ellie      Ellie   3.20  Developmental Biology\n",
       "Heather  Heather   3.18             Immunology"
      ]
     },
     "execution_count": 83,
     "metadata": {},
     "output_type": "execute_result"
    }
   ],
   "source": [
    "pb_df.set_index(\"Names\", inplace=True, drop=False)\n",
    "pb_df"
   ]
  },
  {
   "cell_type": "markdown",
   "id": "864429f1",
   "metadata": {},
   "source": [
    "We can now access the rows of the data frame using the row indices (because they are unique)."
   ]
  },
  {
   "cell_type": "code",
   "execution_count": 84,
   "id": "af206871",
   "metadata": {},
   "outputs": [
    {
     "data": {
      "text/plain": [
       "Names               Mike\n",
       "Office              6.17\n",
       "Department    Immunology\n",
       "Name: Mike, dtype: object"
      ]
     },
     "execution_count": 84,
     "metadata": {},
     "output_type": "execute_result"
    }
   ],
   "source": [
    "pb_df.loc[\"Mike\", :]"
   ]
  },
  {
   "cell_type": "code",
   "execution_count": 85,
   "id": "48b8758b",
   "metadata": {},
   "outputs": [
    {
     "data": {
      "text/html": [
       "<div>\n",
       "<style scoped>\n",
       "    .dataframe tbody tr th:only-of-type {\n",
       "        vertical-align: middle;\n",
       "    }\n",
       "\n",
       "    .dataframe tbody tr th {\n",
       "        vertical-align: top;\n",
       "    }\n",
       "\n",
       "    .dataframe thead th {\n",
       "        text-align: right;\n",
       "    }\n",
       "</style>\n",
       "<table border=\"1\" class=\"dataframe\">\n",
       "  <thead>\n",
       "    <tr style=\"text-align: right;\">\n",
       "      <th></th>\n",
       "      <th>Names</th>\n",
       "      <th>Office</th>\n",
       "      <th>Department</th>\n",
       "    </tr>\n",
       "    <tr>\n",
       "      <th>Names</th>\n",
       "      <th></th>\n",
       "      <th></th>\n",
       "      <th></th>\n",
       "    </tr>\n",
       "  </thead>\n",
       "  <tbody>\n",
       "    <tr>\n",
       "      <th>Mike</th>\n",
       "      <td>Mike</td>\n",
       "      <td>6.17</td>\n",
       "      <td>Immunology</td>\n",
       "    </tr>\n",
       "    <tr>\n",
       "      <th>Heather</th>\n",
       "      <td>Heather</td>\n",
       "      <td>3.18</td>\n",
       "      <td>Immunology</td>\n",
       "    </tr>\n",
       "  </tbody>\n",
       "</table>\n",
       "</div>"
      ],
      "text/plain": [
       "           Names Office  Department\n",
       "Names                              \n",
       "Mike        Mike   6.17  Immunology\n",
       "Heather  Heather   3.18  Immunology"
      ]
     },
     "execution_count": 85,
     "metadata": {},
     "output_type": "execute_result"
    }
   ],
   "source": [
    "pb_df.loc[[\"Mike\", \"Heather\"], :] # selecting multiple rows returns a data frame."
   ]
  },
  {
   "cell_type": "markdown",
   "id": "599d116e",
   "metadata": {},
   "source": [
    "### Data frame from a list of lists\n",
    "We could make a data frame from a list of lists. Each sub-list must contain a single data type. Each list needs to be the same length."
   ]
  },
  {
   "cell_type": "code",
   "execution_count": 87,
   "id": "40dbf8bc",
   "metadata": {},
   "outputs": [
    {
     "data": {
      "text/html": [
       "<div>\n",
       "<style scoped>\n",
       "    .dataframe tbody tr th:only-of-type {\n",
       "        vertical-align: middle;\n",
       "    }\n",
       "\n",
       "    .dataframe tbody tr th {\n",
       "        vertical-align: top;\n",
       "    }\n",
       "\n",
       "    .dataframe thead th {\n",
       "        text-align: right;\n",
       "    }\n",
       "</style>\n",
       "<table border=\"1\" class=\"dataframe\">\n",
       "  <thead>\n",
       "    <tr style=\"text-align: right;\">\n",
       "      <th></th>\n",
       "      <th>0</th>\n",
       "      <th>1</th>\n",
       "      <th>2</th>\n",
       "      <th>3</th>\n",
       "    </tr>\n",
       "  </thead>\n",
       "  <tbody>\n",
       "    <tr>\n",
       "      <th>0</th>\n",
       "      <td>Mike</td>\n",
       "      <td>Daniel</td>\n",
       "      <td>Ellie</td>\n",
       "      <td>Heather</td>\n",
       "    </tr>\n",
       "    <tr>\n",
       "      <th>1</th>\n",
       "      <td>6.17</td>\n",
       "      <td>5.23</td>\n",
       "      <td>3.20</td>\n",
       "      <td>3.18</td>\n",
       "    </tr>\n",
       "    <tr>\n",
       "      <th>2</th>\n",
       "      <td>Immunology</td>\n",
       "      <td>Neuroscience</td>\n",
       "      <td>Developmental Biology</td>\n",
       "      <td>Immunology</td>\n",
       "    </tr>\n",
       "  </tbody>\n",
       "</table>\n",
       "</div>"
      ],
      "text/plain": [
       "            0             1                      2           3\n",
       "0        Mike        Daniel                  Ellie     Heather\n",
       "1        6.17          5.23                   3.20        3.18\n",
       "2  Immunology  Neuroscience  Developmental Biology  Immunology"
      ]
     },
     "execution_count": 87,
     "metadata": {},
     "output_type": "execute_result"
    }
   ],
   "source": [
    "phone_list = [[\"Mike\", \"Daniel\", \"Ellie\", \"Heather\"],\n",
    "              [\"6.17\", \"5.23\", \"3.20\", \"3.18\"],\n",
    "              [\"Immunology\", \"Neuroscience\", \"Developmental Biology\", \"Immunology\"]]\n",
    "list_df = pd.DataFrame(phone_list)\n",
    "list_df"
   ]
  },
  {
   "cell_type": "markdown",
   "id": "61a9cef6",
   "metadata": {},
   "source": [
    "See how by default the data frame puts each list into a row. Why do you think this is the default behaviour?"
   ]
  },
  {
   "cell_type": "markdown",
   "id": "d49211d5",
   "metadata": {},
   "source": [
    "### Data frame from a file\n",
    "We can also read in data from a text file that is in tabular format, e.g. comma or tab-separated. It is better to store data this way than in Excel spreadsheets to minimise the chances of data corruption."
   ]
  },
  {
   "cell_type": "code",
   "execution_count": 91,
   "id": "4cdafea6",
   "metadata": {},
   "outputs": [
    {
     "data": {
      "text/html": [
       "<div>\n",
       "<style scoped>\n",
       "    .dataframe tbody tr th:only-of-type {\n",
       "        vertical-align: middle;\n",
       "    }\n",
       "\n",
       "    .dataframe tbody tr th {\n",
       "        vertical-align: top;\n",
       "    }\n",
       "\n",
       "    .dataframe thead th {\n",
       "        text-align: right;\n",
       "    }\n",
       "</style>\n",
       "<table border=\"1\" class=\"dataframe\">\n",
       "  <thead>\n",
       "    <tr style=\"text-align: right;\">\n",
       "      <th></th>\n",
       "      <th>Names</th>\n",
       "      <th>Office</th>\n",
       "      <th>Department</th>\n",
       "    </tr>\n",
       "  </thead>\n",
       "  <tbody>\n",
       "    <tr>\n",
       "      <th>0</th>\n",
       "      <td>Mike</td>\n",
       "      <td>6.17</td>\n",
       "      <td>Immunology</td>\n",
       "    </tr>\n",
       "    <tr>\n",
       "      <th>1</th>\n",
       "      <td>Daniel</td>\n",
       "      <td>5.23</td>\n",
       "      <td>Neuroscience</td>\n",
       "    </tr>\n",
       "    <tr>\n",
       "      <th>2</th>\n",
       "      <td>Ellie</td>\n",
       "      <td>3.20</td>\n",
       "      <td>Developmental Biology</td>\n",
       "    </tr>\n",
       "    <tr>\n",
       "      <th>3</th>\n",
       "      <td>Heather</td>\n",
       "      <td>3.18</td>\n",
       "      <td>Immunology</td>\n",
       "    </tr>\n",
       "  </tbody>\n",
       "</table>\n",
       "</div>"
      ],
      "text/plain": [
       "     Names  Office             Department\n",
       "0     Mike    6.17             Immunology\n",
       "1   Daniel    5.23           Neuroscience\n",
       "2    Ellie    3.20  Developmental Biology\n",
       "3  Heather    3.18             Immunology"
      ]
     },
     "execution_count": 91,
     "metadata": {},
     "output_type": "execute_result"
    }
   ],
   "source": [
    "phone_from_file = pd.read_csv(\"phone_book.csv\", sep=\",\")\n",
    "phone_from_file"
   ]
  },
  {
   "cell_type": "markdown",
   "id": "59f8ef02",
   "metadata": {},
   "source": [
    "__Exercise break__\n",
    "Try making your own data frames from dicts, lists or reading in from a files. For example, you could use the DNA sequences above and summarise some information about, e.g. how many A's, T's, C's and G's they each contain. Can you figure out how to store this information in a data frame?"
   ]
  },
  {
   "cell_type": "markdown",
   "id": "5f9f9119",
   "metadata": {},
   "source": [
    "# Regular expressions\n",
    "These are an incredibly powerful way to perform pattern matching, but take some practise to get used to. Recall from the lecture the table of the regex syntax - try to memorise the major ones (top 11) - you can always keep a cheat sheet of these to hand - or google them, whichever you prefer.\n",
    "\n",
    "In Python, we use the `re` module for regular expressions: https://docs.python.org/3/library/re.html"
   ]
  },
  {
   "cell_type": "code",
   "execution_count": 93,
   "id": "a7feffa6",
   "metadata": {},
   "outputs": [],
   "source": [
    "import re"
   ]
  },
  {
   "cell_type": "markdown",
   "id": "6c64d338",
   "metadata": {},
   "source": [
    "We start by constructing a regular expression, then we apply it to some text. In our case we want to identify TATA boxes in a set of bacterial promoter sequences. Recall from the lecture that a TATA box is 5'-TATAT/AAT/A-3', where the forward slash means one nucleotide or another, so either T or A in both cases."
   ]
  },
  {
   "cell_type": "code",
   "execution_count": 95,
   "id": "62c0c68b",
   "metadata": {},
   "outputs": [
    {
     "data": {
      "text/plain": [
       "re.compile(r'TATA[A|T]A[A|T]', re.UNICODE)"
      ]
     },
     "execution_count": 95,
     "metadata": {},
     "output_type": "execute_result"
    }
   ],
   "source": [
    "# we make our regex then convert it into a regex object using re.compile\n",
    "tata_re = re.compile(\"TATA[A|T]A[A|T]\")\n",
    "tata_re"
   ]
  },
  {
   "cell_type": "code",
   "execution_count": 98,
   "id": "0feb72b3",
   "metadata": {},
   "outputs": [
    {
     "data": {
      "text/plain": [
       "<re.Match object; span=(37, 44), match='TATATAT'>"
      ]
     },
     "execution_count": 98,
     "metadata": {},
     "output_type": "execute_result"
    }
   ],
   "source": [
    "bact_seq = \"CACTTCAGGTTAAGCGGCGCGGCCTGCGCATTTTGGATATATATAATCCT\"\n",
    "tata_match = tata_re.search(bact_seq)\n",
    "tata_match"
   ]
  },
  {
   "cell_type": "markdown",
   "id": "2c40e7d1",
   "metadata": {},
   "source": [
    "The result here is an `re.Match` object (more on objects later, if there's time). It contains some specific information already, namely the position in the string of the regex match (37-44) and the exact sequence. We can extract this information from `tata_match` and use it to index the relevant sequence."
   ]
  },
  {
   "cell_type": "code",
   "execution_count": 102,
   "id": "c1aaed48",
   "metadata": {},
   "outputs": [
    {
     "data": {
      "text/plain": [
       "'TATATAT'"
      ]
     },
     "execution_count": 102,
     "metadata": {},
     "output_type": "execute_result"
    }
   ],
   "source": [
    "tata_idx = tata_match.span()\n",
    "bact_seq[tata_idx[0]:tata_idx[1]] # tata_idx[0] is the first position, tata_idx[1] is the last position(+1)"
   ]
  },
  {
   "cell_type": "code",
   "execution_count": 109,
   "id": "089d0bb3",
   "metadata": {},
   "outputs": [
    {
     "data": {
      "text/plain": [
       "'TATATAT'"
      ]
     },
     "execution_count": 109,
     "metadata": {},
     "output_type": "execute_result"
    }
   ],
   "source": [
    "tata_match.group(0) # this syntax is because we can have multiple groups in a regex"
   ]
  },
  {
   "cell_type": "markdown",
   "id": "e26ab756",
   "metadata": {},
   "source": [
    "__Exercise break__\n",
    "Using the DNA sequences from above in `dna_seqs`, can you find the start and stop codons? Can you find all of the instances of the lysine codons? How many lysine codons are there in each of the 5 sequences?"
   ]
  },
  {
   "cell_type": "markdown",
   "id": "40fbfd46",
   "metadata": {},
   "source": [
    "## Final exercise\n",
    "\n",
    "You have been provided with a file containing 10 cDNA sequences. For each one transcribe them into RNA then translate into peptide sequences - note that you will need to find the longest reading frame first. Think about what you know about where translation is started. I want you to use regular expressions to find all of the serine and threonine codons and count them. Note that some sequences may not contain _any_ serine or threonine amino acids. For each sequence store the data in a data frame, along with the GC percentage for each original DNA sequence."
   ]
  }
 ],
 "metadata": {
  "kernelspec": {
   "display_name": "Python 3 (ipykernel)",
   "language": "python",
   "name": "python3"
  },
  "language_info": {
   "codemirror_mode": {
    "name": "ipython",
    "version": 3
   },
   "file_extension": ".py",
   "mimetype": "text/x-python",
   "name": "python",
   "nbconvert_exporter": "python",
   "pygments_lexer": "ipython3",
   "version": "3.11.4"
  }
 },
 "nbformat": 4,
 "nbformat_minor": 5
}
